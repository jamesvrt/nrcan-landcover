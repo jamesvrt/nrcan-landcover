{
 "cells": [
  {
   "cell_type": "markdown",
   "id": "971794f8",
   "metadata": {},
   "source": [
    "# Tutorial: Working with this stactools subpackage\n",
    "\n",
    "Stactools ([docs](https://stactools.readthedocs.io/en/latest/), [source](https://github.com/stac-utils/stactools)) is a command line tool and library for working with [STAC](https://stacspec.org/), based on [PySTAC](https://github.com/stac-utils/pystac).\n",
    "\n",
    "[Stactools dataset packages](https://github.com/stactools-packages) are add-ons for stactools that provide STAC functionality for specific datasets, such as [Sentinel 2](https://github.com/stactools-packages/sentinel2) and [Landsat](https://github.com/stactools-packages/landsat).\n",
    "\n",
    "Stactools and its dataset packages can be accessed from the CLI or from within normal Python code. This notebook provides examples of both."
   ]
  },
  {
   "cell_type": "markdown",
   "id": "e99b8269",
   "metadata": {},
   "source": [
    "## 1. Using this notebook\n",
    "\n",
    "The easiest way to use this notebook is to run it through `scripts/notebook`. This will create a Docker container already set up with the prerequisites and open the stactools dataset folder. Navigate to `docs/` to find this notebook.\n",
    "\n",
    "If you wish to use this notebook outside of the container (such as on mybinder.org) then please install the prerequisites using:"
   ]
  },
  {
   "cell_type": "code",
   "execution_count": null,
   "id": "061b24d5",
   "metadata": {},
   "outputs": [],
   "source": [
    "!pip install stactools-nrcan-landcover"
   ]
  },
  {
   "cell_type": "markdown",
   "id": "5f4d528f",
   "metadata": {},
   "source": [
    "## 2. Using the stactools dataset package from the CLI"
   ]
  },
  {
   "cell_type": "markdown",
   "id": "460b62e9",
   "metadata": {},
   "source": [
    "The first thing we can do is check that the `stac` CLI tool is installed and explore the options. Notice the inclusion of the command for this dataset package in stactools now."
   ]
  },
  {
   "cell_type": "code",
   "execution_count": 2,
   "id": "1f6047a8",
   "metadata": {},
   "outputs": [
    {
     "name": "stdout",
     "output_type": "stream",
     "text": [
      "Usage: stac [OPTIONS] COMMAND [ARGS]...\r\n",
      "\r\n",
      "Options:\r\n",
      "  -v, --verbose  Use verbose mode\r\n",
      "  -q, --quiet    Use quiet mode (no output)\r\n",
      "  --help         Show this message and exit.\r\n",
      "\r\n",
      "Commands:\r\n",
      "  copy            Copy a STAC Catalog\r\n",
      "  describe        Prints out a list of all catalogs, collections and items in\r\n",
      "                  this STAC.\r\n",
      "\r\n",
      "  info            Display info about a static STAC catalog.\r\n",
      "  layout          Reformat the layout of a STAC based on templating.\r\n",
      "  merge           Merge items from one STAC into another.\r\n",
      "  move-assets     Move or copy assets in a STAC to the Item locations.\r\n",
      "  nrcanlandcover  Commands for working with Natural Resources Canada Land\r\n",
      "                  Cover data\r\n",
      "\r\n",
      "  validate        Validate a stac object.\r\n",
      "  version         Display version info.\r\n"
     ]
    }
   ],
   "source": [
    "!stac"
   ]
  },
  {
   "cell_type": "markdown",
   "id": "e6bf21d3",
   "metadata": {},
   "source": [
    "You can now explore the STAC dataset package commands to ingest and describe the data"
   ]
  },
  {
   "cell_type": "code",
   "execution_count": 4,
   "id": "8f1f7333",
   "metadata": {},
   "outputs": [
    {
     "name": "stdout",
     "output_type": "stream",
     "text": [
      "Usage: stac nrcanlandcover [OPTIONS] COMMAND [ARGS]...\r\n",
      "\r\n",
      "Options:\r\n",
      "  --help  Show this message and exit.\r\n",
      "\r\n",
      "Commands:\r\n",
      "  create-cog         Transform Geotiff to Cloud-Optimized Geotiff.\r\n",
      "  create-collection  Creates a STAC collection from NRCan Landcover metadata\r\n",
      "  create-item        Create a STAC item using JSONLD metadata and a COG\r\n"
     ]
    }
   ],
   "source": [
    "!stac nrcanlandcover --help"
   ]
  },
  {
   "cell_type": "markdown",
   "id": "13e588f9",
   "metadata": {},
   "source": [
    "And more specific help with an individual command."
   ]
  },
  {
   "cell_type": "code",
   "execution_count": 5,
   "id": "a8752d61",
   "metadata": {},
   "outputs": [
    {
     "name": "stdout",
     "output_type": "stream",
     "text": [
      "Usage: stac nrcanlandcover create-item [OPTIONS]\r\n",
      "\r\n",
      "  Generate a STAC item using the metadata, with an asset url as provided.\r\n",
      "\r\n",
      "  Args:     destination (str): Local directory to save the STAC Item json\r\n",
      "  cog (str): location of a COG asset for the item     metadata (str): url\r\n",
      "  containing the NRCAN Landcover JSONLD metadata\r\n",
      "\r\n",
      "Options:\r\n",
      "  -d, --destination TEXT  The output directory for the STAC json  [required]\r\n",
      "  -c, --cog TEXT          COG href  [required]\r\n",
      "  -m, --metadata TEXT     The url to the metadata description.\r\n",
      "  --help                  Show this message and exit.\r\n"
     ]
    }
   ],
   "source": [
    "!stac nrcanlandcover create-item --help"
   ]
  },
  {
   "cell_type": "markdown",
   "id": "7af4c603",
   "metadata": {},
   "source": [
    "Here are some examples to get you started on the CLI:"
   ]
  },
  {
   "cell_type": "code",
   "execution_count": null,
   "id": "5d0733f9",
   "metadata": {},
   "outputs": [],
   "source": [
    "# STAC Collection\n",
    "!stac nrcanlandcover create-collection -d \"/path/to/directory\""
   ]
  },
  {
   "cell_type": "code",
   "execution_count": null,
   "id": "380d235a",
   "metadata": {},
   "outputs": [],
   "source": [
    "# Create a COG - creates /path/to/local_cog.tif\n",
    "!stac nrcanlandcover create-cog -d \"/path/to/directory\" -s \"/path/to/local.tif\""
   ]
  },
  {
   "cell_type": "code",
   "execution_count": null,
   "id": "e1f9ce15",
   "metadata": {},
   "outputs": [],
   "source": [
    "# Create a STAC Item - creates /path/to/directory/local_cog.json\n",
    "!stac nrcanlandcover create-item -d \"/path/to/directory\" -c \"/path/to/local_cog.tif\""
   ]
  },
  {
   "cell_type": "markdown",
   "id": "b42651a3",
   "metadata": {},
   "source": [
    "## 3. Using the stactools dataset package from within Python code"
   ]
  },
  {
   "cell_type": "markdown",
   "id": "3e4b2d29",
   "metadata": {},
   "source": [
    "So far we've used Jupyter Notebooks' IPython [line magic](https://ipython.readthedocs.io/en/stable/interactive/magics.html) to work with stactools packages on the command line, but it's also possible to use them within Python scripts."
   ]
  },
  {
   "cell_type": "code",
   "execution_count": null,
   "id": "1794b66e",
   "metadata": {},
   "outputs": [],
   "source": [
    "from stactools.nrcan_landcover.constants import JSONLD_HREF\n",
    "from stactools.nrcan_landcover import utils, cog, stac\n",
    "\n",
    "\n",
    "# Read metadata\n",
    "metadata = utils.get_metadata(JSONLD_HREF)\n",
    "\n",
    "# Create a STAC Collection\n",
    "json_path = os.path.join(tmp_dir, \"/path/to/nrcan-landcover.json\")\n",
    "stac.create_collection(metadata, json_path)\n",
    "\n",
    "# Create a COG\n",
    "cog.create_cog(\"/path/to/local.tif\", \"/path/to/cog.tif\")\n",
    "\n",
    "# Create a STAC Item\n",
    "stac.create_item(metadata, \"/path/to/item.json\", \"/path/to/cog.tif\")"
   ]
  },
  {
   "cell_type": "code",
   "execution_count": null,
   "id": "04d58782",
   "metadata": {},
   "outputs": [],
   "source": []
  }
 ],
 "metadata": {
  "interpreter": {
   "hash": "c2bee1ab741e827a7e677add16aa73fb04c1c623305731aa61866545d78e2921"
  },
  "kernelspec": {
   "display_name": "Python 3 (ipykernel)",
   "language": "python",
   "name": "python3"
  },
  "language_info": {
   "codemirror_mode": {
    "name": "ipython",
    "version": 3
   },
   "file_extension": ".py",
   "mimetype": "text/x-python",
   "name": "python",
   "nbconvert_exporter": "python",
   "pygments_lexer": "ipython3",
   "version": "3.8.10"
  }
 },
 "nbformat": 4,
 "nbformat_minor": 5
}
